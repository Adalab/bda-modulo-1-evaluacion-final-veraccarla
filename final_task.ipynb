{
 "cells": [
  {
   "cell_type": "code",
   "execution_count": 130,
   "metadata": {},
   "outputs": [],
   "source": [
    "class OnlineStore:\n",
    "    \n",
    "    def __init__(self):\n",
    "        self.inventory = [] # Creamos una lista vacía (a llenar con los diccionarios que vayamos creando a través de los métodos)\n",
    "        self.clients = {} # Creamos un diccionario vacío\n",
    "        self.total_sales = 0 # Inicializamos un contador a 0 para llevar un registro de las ventas totales (como atributo)\n",
    "\n",
    "    # 1. Creamos un método que permita añadir productos\n",
    "    def add_product(self, name, price, amount):\n",
    "        # Para cada producto de mi inventario (que al principio estaba vacío):\n",
    "        for each_product in self.inventory:\n",
    "        # Primero que nada debo comprobar si el nombre del producto coincide con alguno ya existente, pues:\n",
    "            # - Si es así, y ya existe, tendré que actualizar su cantidad (sumando la entrada \"amount\" a la cantidad ya existente):\n",
    "            if each_product[\"Name\"] == name: \n",
    "                each_product[\"Amount\"] += amount\n",
    "                return f'The new amount for the product {name} is {each_product[\"Amount\"]}.'\n",
    "\n",
    "                # Observaciones para mi misma:\n",
    "                # - Estar muy atenta a especificar de qué producto es la cantidad que estoy introduciendo en el \"f\"\n",
    "                # - Uso \"return\" para parar el bucle (se termina la función una vez que he actualizado su cantidad)\n",
    "                # (de lo contrario me seguiría sumando la cantidad en cada iteración)\n",
    "\n",
    "        # - Si no es así, tendré que añadirlo al inventario:\n",
    "        self.inventory.append({\"Name\": name, \"Price\": price, \"Amount\": amount})\n",
    "        return f'The product {name} has been added to the inventory.'\n",
    "\n",
    "    # 2. Creamos un método que permita ver el inventario detallado\n",
    "    def check_inventory(self):\n",
    "        for each_product in self.inventory:\n",
    "            print(f'Name: {each_product[\"Name\"]}, Price: {each_product[\"Price\"]}, Amount: {each_product[\"Amount\"]}.')\n",
    "\n",
    "            # Observaciones para mi misma:\n",
    "            # - Usar \"print\" en lugar de \"return\", porque de lo contrario solo se me imprimirá el primer producto sobre el que itere el bucle\n",
    "            \n",
    "        return self.inventory \n",
    "        \n",
    "        # Observaciones para mi misma:\n",
    "        # - Aquí he usado un \"return\" simplemente para evitar que me salga \"None\" al final\n",
    "        # => lo dejaré así a propósito porque me gusta que me imprima el inventario entero al final\n",
    "        # - El \"self\" solo se usa cuando se trata de los atributos directos: self.inventory, self.clients y self.total_sales\n",
    "        # - Error hasta ahora por el cual me salía \"OnlineStore has no attribute 'name'\": si yo pongo en el \"return\":\n",
    "        # f\"Name\": name, \"Price\": price, \"Amount\": amount; no va a saber exactamente qué es lo que quiero que me imprima\n",
    "        # name, price y amount per se no son nada (solo son parte de la función) => yo he creado antes en \"add_product\" el siguiente patrón,\n",
    "        # en el cual denomino \"Name\" al nombre de un producto cuando lo añado (que aparecerá en el diccionario del producto)\n",
    "        # \"Price\" a su precio\n",
    "        # \"Amount\" a la cantidad (ya sea nueva o actualizada)\n",
    "        # Esto es fundamental, ya que cuando ejecute \"return\", tengo que especificar, para cada producto, qué es exactamente lo que quiero que me imprima,\n",
    "        # y la única forma de hacer esto es poniendo: {each_product[\"Name\"]} {each_product[\"Price\"]} {each_product[\"Amount\"}\n",
    "\n",
    "    # 3. Creamos un método que permita buscar por el nombre de un producto\n",
    "    def search_product(self,name):\n",
    "        for each_product in self.inventory:\n",
    "            if each_product[\"Name\"] == name:\n",
    "                return f'This product is in the inventory. Name: {each_product[\"Name\"]}, Price: {each_product[\"Price\"]}, Amount: {each_product[\"Amount\"]}.'\n",
    "            \n",
    "            else:\n",
    "                return 'Sorry, this product is not currently in the inventory.'\n",
    "\n",
    "    # 4. Creamos un método que permita actualizar el stock de un producto (tanto positiva como negativamente)\n",
    "    def update_stock(self, name, amount):\n",
    "        for each_product in self.inventory:\n",
    "            if each_product[\"Name\"] == name:\n",
    "                # Creo una nueva variable localmente, ya que la cantidad disponible del producto va a cambiar\n",
    "                new_amount = each_product[\"Amount\"] + amount\n",
    "\n",
    "                # Consideramos el escenario en que al reducir la cantidad del producto, quede por debajo de 0 (lo cual no sería posible)\n",
    "                if new_amount < 0:\n",
    "                    return f'Error: cannot reduce the stock for {name} below 0.'\n",
    "\n",
    "                each_product[\"Amount\"] = new_amount\n",
    "                \n",
    "                return f'The stock for {name} has been updated to {each_product[\"Amount\"]}.'\n",
    "\n",
    "                # Observaciones para mi misma:\n",
    "                # - Esto último también lo podría haber hecho utilizando la función .update() para diccionarios\n",
    "                # - Esto último lo había hecho intentando introducirlo dentro de un \"else\", pero en realidad se me ejecutaba el resto\n",
    "                # del código igualmente ya que la anterior condición del \"if\" no se cumplía de todos modos\n",
    "\n",
    "                \n",
    "        return f'Sorry, the product {name} is not currently in the inventory.'\n",
    "\n",
    "    # 5. Creamos un método que permita eliminar un producto del inventario\n",
    "    def delete_product(self, name):\n",
    "        for each_product in self.inventory:\n",
    "            if each_product[\"Name\"] == name:\n",
    "                self.inventory.remove(each_product)\n",
    "\n",
    "                return f'You have succesfully deleted the product \"{each_product[\"Name\"]}\" from the inventory.'\n",
    "\n",
    "        return f'Sorry, you cannot delete \"{name}\" because this product because is not currently in the inventory.'\n",
    "\n",
    "\n",
    "    # 6. Creamos un método que permita calcular el valor total del inventario con el stock actual de productos\n",
    "    def calculate_value_inventory(self):\n",
    "        \n",
    "        total_value_inventory = 0 # Establezco en 0 el acumulador (fuera del bucle)\n",
    "\n",
    "        for each_product in self.inventory:\n",
    "            product_value = (each_product[\"Price\"]) * (each_product[\"Amount\"])\n",
    "            print(f'The total value of the product \"{each_product[\"Name\"]}\" is {product_value}.')\n",
    "\n",
    "            total_value_inventory += product_value\n",
    "\n",
    "        return f'The total value of the inventory is {total_value_inventory}.'\n",
    "\n",
    "        # Observaciones para mi misma:\n",
    "        # Si solo hubiese hecho:\n",
    "        # product_value = (each_product[\"Price\"]) * (each_product[\"Amount\"])\n",
    "        # estaría recalculando el valor de cada producto en cada iteración\n",
    "        # pero nunca se acumularía\n",
    "\n",
    "    # 7. Creamos un método que permita realizar una compra\n",
    "    def make_a_purchase(self):\n",
    "\n",
    "        # Observaciones para mi misma (premisas):\n",
    "        # - No podemos dejar que el cliente compre los productos sin haber comprobado primero si los teníamos en el inventario\n",
    "        # - Para comprobar si tenemos estos productos en el inventario y poder actualizarlo => for dentro del while\n",
    "\n",
    "        # Primero que nada, mostramos el inventario completo al usuario para que pueda elegir:\n",
    "        print('Catalogue:')\n",
    "        print(self.check_inventory())\n",
    "\n",
    "        basket = {} # Creamos un diccionario vacío que almacenará los productos comprados como claves y las cantidades como valores\n",
    "\n",
    "        while True:\n",
    "            # Preguntamos al usuario qué es lo que desea comprar\n",
    "            purchase_product = (input('What product do you wish to buy? Type \"exit\" if you wish to finish the purchase')).title()\n",
    "\n",
    "            # Le damos la condición para que salga del bucle, al principio del todo, en caso de que el usuario no quiera comprar\n",
    "            # nada, o de que ya haya terminado de añadir productos a su carrito\n",
    "            if purchase_product.lower() == \"exit\":\n",
    "                break\n",
    "\n",
    "            # Vamos iterando sobre cada producto en nuestro inventario para ver si efectivamente lo que quiere comprar el usuario\n",
    "            # se encuentra en el mismo\n",
    "            for each_product in self.inventory:\n",
    "                if each_product[\"Name\"] == purchase_product:\n",
    "                    # Creo una nueva variable localmente para identificar el producto encontrado dentro del inventario y paro el bucle\n",
    "                    # porque ya lo hemos encontrado\n",
    "                    product_found = each_product\n",
    "                    break\n",
    "                    \n",
    "            else:\n",
    "                print('Sorry, this product is not currently in the inventory.')\n",
    "                continue\n",
    "\n",
    "            # Observaciones para mi misma:\n",
    "            # Si no pongo el \"else\" a esta altura, se me va a imprimir \"Sorry, this product is not currently in the inventory\" al \n",
    "            # final del bucle en la segunda interación, aunque sí que haya encontrado el producto\n",
    "            \n",
    "            # Preguntamos al usuario qué cantidad del producto desea comprar, e introducimos la excepción de \"ValueError\"\n",
    "            # porque tal vez se despiste y no introduzca un número\n",
    "\n",
    "            try:\n",
    "                quantity_requested = int(input(f'How many of \"{purchase_product}\" would you like to buy?'))\n",
    "\n",
    "            except ValueError:\n",
    "                print(\"Please, enter a valid number.\")\n",
    "                continue\n",
    "\n",
    "            # Podría ser que nos estén pidiendo más cantidad de un producto de la que se encuentra en stock,\n",
    "            # por lo que comprobar el stock debe ser el primer paso:\n",
    "            \n",
    "            # - En este escenario, no hay suficiente stock:\n",
    "            if quantity_requested > product_found[\"Amount\"]:\n",
    "                print(f'Sorry, but we only have {product_found[\"Amount\"]} in stock.')\n",
    "                continue\n",
    "\n",
    "            # - En este, sí que lo hay:\n",
    "            else:\n",
    "\n",
    "                # El siguiente paso sería añadir el producto al carrito, pero podría ser que ya lo esté:\n",
    "                # - Si el producto ya está dentro del carrito, actualizaremos su cantidad dentro del mismo:\n",
    "                if purchase_product in basket:\n",
    "                    basket[purchase_product] += quantity_requested\n",
    "                \n",
    "                # - Si aún no está dentro del carrito, entonces le pido que me lo añada al diccionario que estaba vacío\n",
    "                else:\n",
    "                    basket[purchase_product] = quantity_requested\n",
    "\n",
    "                    # Observaciones para mi misma:\n",
    "                    # Quizás también lo podría hacer con basket.update({purchase_product: quantity_requested})\n",
    "                \n",
    "                print(f'{quantity_requested} of \"{purchase_product}\" succesfully added to your basket.')\n",
    "\n",
    "                # A continuación, actualizamos el stock disponible en el inventario tras la compra:\n",
    "                product_found[\"Amount\"] -= quantity_requested\n",
    "                print(f'The stock for {product_found[\"Name\"]} has been updated to {product_found[\"Amount\"]}.')\n",
    "\n",
    "                # Observaciones para mi misma: en este caso, no hace falta que recorra todo el inventario con un \"for\" de nuevo, \n",
    "                # porque ya he encontrado el producto antes y he creado una variable para el mismo \"product_found\"\n",
    "                # de la cual solo tendría que actualizar su cantidad\n",
    "\n",
    "\n",
    "        # Finalmente, calculamos el coste total del carrito y finalizamos la compra:\n",
    "        total_cost = 0 # Establezco en 0 el acumulador (como siempre, fuera del bucle)\n",
    "\n",
    "        print('Purchase summary:')\n",
    "\n",
    "        # Iteramos sobre cada producto dentro de la cesta:\n",
    "        for product_basket in basket:\n",
    "            # Y a su vez sobre cada producto dentro del inventario:\n",
    "            for each_product in self.inventory:\n",
    "                # Para, de estar forma, identificar exactamente el producto cuyo valor queremos calcular en base a:\n",
    "                # - Su precio en el inventario\n",
    "                # - La cantidad solicitada por el usuario\n",
    "                if each_product[\"Name\"] == product_basket:\n",
    "                    product_value = (each_product[\"Price\"]) * (quantity_requested)\n",
    "                    print(f'The product \"{product_basket}\" costs {product_value}€.')\n",
    "\n",
    "                    # Ahora acumulamos el valor de cada producto en relación con la cantidad de cada uno\n",
    "                    # para así obtener el total:\n",
    "                    total_cost += product_value\n",
    "\n",
    "                    # Y aquí simplemente guardamos el coste total en el atributo creado inicialmente (que estaba a 0 al principio)                   \n",
    "                    self.total_sales += total_cost\n",
    "\n",
    "        print(f'The total value of your basket is {total_cost}€. Thanks for your purchase!')\n",
    "\n",
    "        print(f'Bye! Thanks for visiting us today!')"
   ]
  },
  {
   "cell_type": "code",
   "execution_count": 131,
   "metadata": {},
   "outputs": [],
   "source": [
    "# Creating a store called \"random_store\":\n",
    "\n",
    "random_store = OnlineStore()"
   ]
  },
  {
   "cell_type": "code",
   "execution_count": 132,
   "metadata": {},
   "outputs": [
    {
     "name": "stdout",
     "output_type": "stream",
     "text": [
      "The product Trousers has been added to the inventory.\n"
     ]
    }
   ],
   "source": [
    "# Testing 1st method:\n",
    "# adding new products to the inventory\n",
    "\n",
    "print(random_store.add_product(\"Trousers\", 20, 10))"
   ]
  },
  {
   "cell_type": "code",
   "execution_count": 133,
   "metadata": {},
   "outputs": [
    {
     "name": "stdout",
     "output_type": "stream",
     "text": [
      "The product Skirt has been added to the inventory.\n"
     ]
    }
   ],
   "source": [
    "print(random_store.add_product(\"Skirt\", 50, 5))"
   ]
  },
  {
   "cell_type": "code",
   "execution_count": 134,
   "metadata": {},
   "outputs": [
    {
     "name": "stdout",
     "output_type": "stream",
     "text": [
      "The product Socks has been added to the inventory.\n"
     ]
    }
   ],
   "source": [
    "print(random_store.add_product(\"Socks\", 5, 20))"
   ]
  },
  {
   "cell_type": "code",
   "execution_count": 135,
   "metadata": {},
   "outputs": [
    {
     "name": "stdout",
     "output_type": "stream",
     "text": [
      "The product Hoodie has been added to the inventory.\n"
     ]
    }
   ],
   "source": [
    "print(random_store.add_product(\"Hoodie\", 20, 4))"
   ]
  },
  {
   "cell_type": "code",
   "execution_count": 136,
   "metadata": {},
   "outputs": [
    {
     "name": "stdout",
     "output_type": "stream",
     "text": [
      "The product Jacket has been added to the inventory.\n"
     ]
    }
   ],
   "source": [
    "print(random_store.add_product(\"Jacket\", 50, 10))"
   ]
  },
  {
   "cell_type": "code",
   "execution_count": 137,
   "metadata": {},
   "outputs": [
    {
     "name": "stdout",
     "output_type": "stream",
     "text": [
      "The new amount for the product Skirt is 25.\n"
     ]
    }
   ],
   "source": [
    "# Testing 1st method:\n",
    "# adding an existing product (so its quantity in the inventory is updated)\n",
    "\n",
    "print(random_store.add_product(\"Skirt\", 50, 20))"
   ]
  },
  {
   "cell_type": "code",
   "execution_count": 138,
   "metadata": {},
   "outputs": [
    {
     "name": "stdout",
     "output_type": "stream",
     "text": [
      "Name: Trousers, Price: 20, Amount: 10.\n",
      "Name: Skirt, Price: 50, Amount: 25.\n",
      "Name: Socks, Price: 5, Amount: 20.\n",
      "Name: Hoodie, Price: 20, Amount: 4.\n",
      "Name: Jacket, Price: 50, Amount: 10.\n",
      "[{'Name': 'Trousers', 'Price': 20, 'Amount': 10}, {'Name': 'Skirt', 'Price': 50, 'Amount': 25}, {'Name': 'Socks', 'Price': 5, 'Amount': 20}, {'Name': 'Hoodie', 'Price': 20, 'Amount': 4}, {'Name': 'Jacket', 'Price': 50, 'Amount': 10}]\n"
     ]
    }
   ],
   "source": [
    "# Testing 2nd method:\n",
    "# showing the full inventory in detail\n",
    "\n",
    "print(random_store.check_inventory())"
   ]
  },
  {
   "cell_type": "code",
   "execution_count": 139,
   "metadata": {},
   "outputs": [
    {
     "name": "stdout",
     "output_type": "stream",
     "text": [
      "This product is in the inventory. Name: Trousers, Price: 20, Amount: 10.\n"
     ]
    }
   ],
   "source": [
    "# Testing 3rd method:\n",
    "# searching for a product that exists within the inventory\n",
    "\n",
    "print(random_store.search_product(\"Trousers\"))"
   ]
  },
  {
   "cell_type": "code",
   "execution_count": 140,
   "metadata": {},
   "outputs": [
    {
     "name": "stdout",
     "output_type": "stream",
     "text": [
      "Sorry, this product is not currently in the inventory.\n"
     ]
    }
   ],
   "source": [
    "# Testing 3rd method:\n",
    "# searching for a product that is not in the inventory\n",
    "\n",
    "print(random_store.search_product(\"Shirt\"))"
   ]
  },
  {
   "cell_type": "code",
   "execution_count": 141,
   "metadata": {},
   "outputs": [
    {
     "name": "stdout",
     "output_type": "stream",
     "text": [
      "The stock for Skirt has been updated to 27.\n"
     ]
    }
   ],
   "source": [
    "# Testing 4th method:\n",
    "# updating the stock of a product\n",
    "\n",
    "print(random_store.update_stock(\"Skirt\", +2))"
   ]
  },
  {
   "cell_type": "code",
   "execution_count": 142,
   "metadata": {},
   "outputs": [
    {
     "name": "stdout",
     "output_type": "stream",
     "text": [
      "The stock for Skirt has been updated to 24.\n"
     ]
    }
   ],
   "source": [
    "print(random_store.update_stock(\"Skirt\", -3))"
   ]
  },
  {
   "cell_type": "code",
   "execution_count": 143,
   "metadata": {},
   "outputs": [
    {
     "name": "stdout",
     "output_type": "stream",
     "text": [
      "The stock for Skirt has been updated to 4.\n"
     ]
    }
   ],
   "source": [
    "print(random_store.update_stock(\"Skirt\", -20))"
   ]
  },
  {
   "cell_type": "code",
   "execution_count": 144,
   "metadata": {},
   "outputs": [
    {
     "name": "stdout",
     "output_type": "stream",
     "text": [
      "You have succesfully deleted the product \"Trousers\" from the inventory.\n"
     ]
    }
   ],
   "source": [
    "# Testing 5th method:\n",
    "# deleting a product from the inventory\n",
    "\n",
    "print(random_store.delete_product(\"Trousers\"))"
   ]
  },
  {
   "cell_type": "code",
   "execution_count": 145,
   "metadata": {},
   "outputs": [
    {
     "name": "stdout",
     "output_type": "stream",
     "text": [
      "Name: Skirt, Price: 50, Amount: 4.\n",
      "Name: Socks, Price: 5, Amount: 20.\n",
      "Name: Hoodie, Price: 20, Amount: 4.\n",
      "Name: Jacket, Price: 50, Amount: 10.\n",
      "[{'Name': 'Skirt', 'Price': 50, 'Amount': 4}, {'Name': 'Socks', 'Price': 5, 'Amount': 20}, {'Name': 'Hoodie', 'Price': 20, 'Amount': 4}, {'Name': 'Jacket', 'Price': 50, 'Amount': 10}]\n"
     ]
    }
   ],
   "source": [
    "# Testing 5th method:\n",
    "# checking that the product has succesfully been removed from the inventory\n",
    "\n",
    "print(random_store.check_inventory())"
   ]
  },
  {
   "cell_type": "code",
   "execution_count": 146,
   "metadata": {},
   "outputs": [
    {
     "name": "stdout",
     "output_type": "stream",
     "text": [
      "The total value of the product \"Skirt\" is 200.\n",
      "The total value of the product \"Socks\" is 100.\n",
      "The total value of the product \"Hoodie\" is 80.\n",
      "The total value of the product \"Jacket\" is 500.\n",
      "The total value of the inventory is 880.\n"
     ]
    }
   ],
   "source": [
    "# Testing 6th method:\n",
    "# calculating and showing the total value of the inventory\n",
    "\n",
    "print(random_store.calculate_value_inventory())"
   ]
  },
  {
   "cell_type": "code",
   "execution_count": 147,
   "metadata": {},
   "outputs": [
    {
     "name": "stdout",
     "output_type": "stream",
     "text": [
      "Catalogue:\n",
      "Name: Skirt, Price: 50, Amount: 4.\n",
      "Name: Socks, Price: 5, Amount: 20.\n",
      "Name: Hoodie, Price: 20, Amount: 4.\n",
      "Name: Jacket, Price: 50, Amount: 10.\n",
      "[{'Name': 'Skirt', 'Price': 50, 'Amount': 4}, {'Name': 'Socks', 'Price': 5, 'Amount': 20}, {'Name': 'Hoodie', 'Price': 20, 'Amount': 4}, {'Name': 'Jacket', 'Price': 50, 'Amount': 10}]\n",
      "5 of \"Socks\" succesfully added to your basket.\n",
      "The stock for Socks has been updated to 15.\n",
      "2 of \"Hoodie\" succesfully added to your basket.\n",
      "The stock for Hoodie has been updated to 2.\n",
      "Purchase summary:\n",
      "The product \"Socks\" costs 10€.\n",
      "The product \"Hoodie\" costs 40€.\n",
      "The total value of your basket is 50€. Thanks for your purchase!\n",
      "Bye! Thanks for visiting us today!\n",
      "None\n"
     ]
    }
   ],
   "source": [
    "# Testing 7th method:\n",
    "# making a purchase\n",
    "# (7.1. showing the full inventory first)\n",
    "# (7.2. showing that the selected items have been added to the basket)\n",
    "# (7.3. updating the inventory after adding items to the basket)\n",
    "# (7.4. working out the total cost of the purchase)\n",
    "\n",
    "print(random_store.make_a_purchase())"
   ]
  }
 ],
 "metadata": {
  "kernelspec": {
   "display_name": "Python 3",
   "language": "python",
   "name": "python3"
  },
  "language_info": {
   "codemirror_mode": {
    "name": "ipython",
    "version": 3
   },
   "file_extension": ".py",
   "mimetype": "text/x-python",
   "name": "python",
   "nbconvert_exporter": "python",
   "pygments_lexer": "ipython3",
   "version": "3.9.6"
  }
 },
 "nbformat": 4,
 "nbformat_minor": 2
}

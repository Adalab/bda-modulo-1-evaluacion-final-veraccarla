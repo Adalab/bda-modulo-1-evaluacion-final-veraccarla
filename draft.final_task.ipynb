{
 "cells": [
  {
   "cell_type": "code",
   "execution_count": null,
   "metadata": {},
   "outputs": [],
   "source": [
    "class OnlineStore:\n",
    "    \n",
    "    def __init__(self):\n",
    "        self.inventory = [] # Esto debe ser una lista de diccionarios\n",
    "        # Cada producto que creemos, debe ser un diccionario cuya estructura sea:\n",
    "        # {\"name_of_product\": \"Camisa\", \"price_of_product\": 20, \"amount_of_product\": 40}\n",
    "        self.clients = {}\n",
    "        self.total_sales = 0\n",
    "\n",
    "    # 1.\n",
    "    def add_product(self, name, price, amount):\n",
    "        for each_product in self.inventory:\n",
    "        # Primero que nada debo comprobar si el nombre del producto coincide, pues:\n",
    "            # - si es así, y ya existe, tendré que actualizar su cantidad:\n",
    "            if each_product[\"Name\"] == name: \n",
    "                each_product[\"Amount\"] += amount\n",
    "                return f'The new amount for the product {name} is {each_product[\"Amount\"]}.'\n",
    "                # Estar muy atenta a especificar de qué producto es la cantidad que estoy introduciendo en el \"f\"\n",
    "                # Uso \"return\" para parar el bucle (se termina la función una vez que he actualizado su cantidad)\n",
    "                # (de lo contrario me lo seguiría añadiendo en cada iteración)\n",
    "\n",
    "        # - si no es así, tendré que añadirlo al inventario:\n",
    "        self.inventory.append({\"Name\": name, \"Price\": price, \"Amount\": amount})\n",
    "        return f'The product {name} has been added to the inventory.'\n",
    "\n",
    "    # 2.\n",
    "    def check_inventory(self):\n",
    "        for each_product in self.inventory:\n",
    "            print(f'Name: {each_product[\"Name\"]}, Price: {each_product[\"Price\"]}, Amount: {each_product[\"Amount\"]}')\n",
    "            # Aunque lo hice así antes pero con \"remove\", ese era precisamente el error, ya que con \"return\" se cierra el bucle y se termina mi función\n",
    "            # en el primer bucle => por esto se me estaba imprimiendo solamente \"Trousers\"\n",
    "        \n",
    "        return self.inventory # Esto es simplemente para evitar que me salga \"None\" al final (que no pasaría nada tampoco)\n",
    "        # Sin embargo, lo voy a dejar así porque me gusta que me imprima el inventario entero al final\n",
    "            \n",
    "            # El \"self\" solo se pone cuando se trata de los atributos directos (self.inventory, self.clients y self.total_sales)\n",
    "            # Error hasta ahora por el cual me salía \"OnlineStore has no attribute 'name'\": si yo pongo en el return:\n",
    "            # f\"Name\": name, \"Price\": price, \"Amount\": amount; no va a saber exactamente qué es lo que quiero que me imprima\n",
    "            # name, price y amount per se no son nada (solo son parte de la función) => yo he creado antes en \"add_product\" el siguiente patrón,\n",
    "            # en el cual denomino \"Name\" al nombre de un producto cuando lo añado (que aparecerá en el diccionario del producto)\n",
    "            # \"Price\" a su precio\n",
    "            # \"Amount\" a la cantidad (ya sea nueva o actualizada)\n",
    "            # Esto es fundamental, ya que cuando ejecute \"return\", tengo que especificar, para cada producto, qué es exactamente lo que quiero que me imprima,\n",
    "            # y la única forma de hacer esto es poniendo: {each_product[\"Name\"]} {each_product[\"Price\"]} {each_product[\"Amount\"}\n",
    "\n",
    "    # 3.\n",
    "    def search_product(self,name):\n",
    "        for each_product in self.inventory:\n",
    "            if each_product[\"Name\"] == name:\n",
    "                return f'This product is in the inventory. Name: {each_product[\"Name\"]}, Price: {each_product[\"Price\"]}, Amount: {each_product[\"Amount\"]}.'\n",
    "            \n",
    "            else:\n",
    "                return 'Sorry, this product is not currently in the inventory.'\n",
    "\n",
    "    # 4.\n",
    "    def update_stock(self, name, amount):\n",
    "        for each_product in self.inventory:\n",
    "            if each_product[\"Name\"] == name:\n",
    "                # Tengo que crear una nueva variable localmente, ya que la cantidad disponible del producto va a cambiar\n",
    "                new_amount = each_product[\"Amount\"] + amount\n",
    "\n",
    "                if new_amount < 0:\n",
    "                    return f'Error: cannot reduce the stock for {name} below 0'\n",
    "\n",
    "                # Aquí yo había puesto un \"else\", pero en realidad, aunque no lo ponga, se me va a ejecutar el resto del código\n",
    "                # de todos modos si la primera condición \"if\" no se cumple\n",
    "                # Debo incluir la posibilidad que el stock quede exactamnte a 0\n",
    "                each_product[\"Amount\"] = new_amount\n",
    "                # Aquí también podría utilizar la función .update() para diccionarios\n",
    "                \n",
    "                return f'The stock for {name} has been updated to {each_product[\"Amount\"]}'\n",
    "\n",
    "                \n",
    "        return f'Sorry, the product {name} is not currently in the inventory.'\n",
    "\n",
    "    # 5.\n",
    "    def delete_product(self, name):\n",
    "        for each_product in self.inventory:\n",
    "            if each_product[\"Name\"] == name:\n",
    "                self.inventory.remove(each_product)\n",
    "                # No puede ser .clear() porque no tengo que vaciar el diccionario entero, solo eliminar => usar .remove() y le especifico el producto que quiero eliminar\n",
    "                # que en este caso, es el que cumple la condición del \"if\" y nada más que ese\n",
    "                # Creo que con .pop() solo me eliminaría le clave, pero no los valores\n",
    "                return f'You have succesfully deleted the product \"{each_product[\"Name\"]}\" from the inventory.'\n",
    "\n",
    "        return 'Sorry, you cannot delete \"{name}\" because this product because is not currently in the inventory.'\n",
    "\n",
    "\n",
    "    # 6.\n",
    "    def calculate_value_inventory(self):\n",
    "            # Si solo hiciese:\n",
    "            # product_value = (each_product[\"Price\"]) * (each_product[\"Amount\"])\n",
    "            # estaría recalculando el valor de cada producto en cada iteración\n",
    "            # pero nunca se acumularía\n",
    "        \n",
    "        total_value_inventory = 0 # Establezco en 0 el acumulador (fuera del bucle)\n",
    "\n",
    "        for each_product in self.inventory:\n",
    "            product_value = (each_product[\"Price\"]) * (each_product[\"Amount\"])\n",
    "            print(f'The total value of the product \"{each_product[\"Name\"]}\" is {product_value}')\n",
    "\n",
    "            total_value_inventory += product_value\n",
    "\n",
    "        return f'The total value of the inventory is {total_value_inventory}'"
   ]
  },
  {
   "cell_type": "code",
   "execution_count": 551,
   "metadata": {},
   "outputs": [],
   "source": [
    "random_store = OnlineStore()"
   ]
  },
  {
   "cell_type": "code",
   "execution_count": 552,
   "metadata": {},
   "outputs": [
    {
     "name": "stdout",
     "output_type": "stream",
     "text": [
      "The product Trousers has been added to the inventory.\n"
     ]
    }
   ],
   "source": [
    "print(random_store.add_product(\"Trousers\", 20, 10))"
   ]
  },
  {
   "cell_type": "code",
   "execution_count": 553,
   "metadata": {},
   "outputs": [
    {
     "name": "stdout",
     "output_type": "stream",
     "text": [
      "The new amount for the product Trousers is 15.\n"
     ]
    }
   ],
   "source": [
    "print(random_store.add_product(\"Trousers\", 10, 5))"
   ]
  },
  {
   "cell_type": "code",
   "execution_count": 554,
   "metadata": {},
   "outputs": [
    {
     "name": "stdout",
     "output_type": "stream",
     "text": [
      "The product Skirt has been added to the inventory.\n"
     ]
    }
   ],
   "source": [
    "print(random_store.add_product(\"Skirt\", 50, 5))"
   ]
  },
  {
   "cell_type": "code",
   "execution_count": 555,
   "metadata": {},
   "outputs": [
    {
     "name": "stdout",
     "output_type": "stream",
     "text": [
      "The product Socks has been added to the inventory.\n"
     ]
    }
   ],
   "source": [
    "print(random_store.add_product(\"Socks\", 5, 20))"
   ]
  },
  {
   "cell_type": "code",
   "execution_count": 556,
   "metadata": {},
   "outputs": [
    {
     "name": "stdout",
     "output_type": "stream",
     "text": [
      "Name: Trousers, Price: 20, Amount: 15\n",
      "Name: Skirt, Price: 50, Amount: 5\n",
      "Name: Socks, Price: 5, Amount: 20\n",
      "[{'Name': 'Trousers', 'Price': 20, 'Amount': 15}, {'Name': 'Skirt', 'Price': 50, 'Amount': 5}, {'Name': 'Socks', 'Price': 5, 'Amount': 20}]\n"
     ]
    }
   ],
   "source": [
    "print(random_store.check_inventory())"
   ]
  },
  {
   "cell_type": "code",
   "execution_count": 557,
   "metadata": {},
   "outputs": [
    {
     "name": "stdout",
     "output_type": "stream",
     "text": [
      "This product is in the inventory. Name: Trousers, Price: 20, Amount: 15.\n"
     ]
    }
   ],
   "source": [
    "print(random_store.search_product(\"Trousers\"))"
   ]
  },
  {
   "cell_type": "code",
   "execution_count": 558,
   "metadata": {},
   "outputs": [
    {
     "name": "stdout",
     "output_type": "stream",
     "text": [
      "Sorry, this product is not currently in the inventory.\n"
     ]
    }
   ],
   "source": [
    "print(random_store.search_product(\"Shirt\"))"
   ]
  },
  {
   "cell_type": "code",
   "execution_count": 559,
   "metadata": {},
   "outputs": [
    {
     "name": "stdout",
     "output_type": "stream",
     "text": [
      "The stock for Skirt has been updated to 7\n"
     ]
    }
   ],
   "source": [
    "print(random_store.update_stock(\"Skirt\", +2))"
   ]
  },
  {
   "cell_type": "code",
   "execution_count": 560,
   "metadata": {},
   "outputs": [
    {
     "name": "stdout",
     "output_type": "stream",
     "text": [
      "The stock for Skirt has been updated to 4\n"
     ]
    }
   ],
   "source": [
    "print(random_store.update_stock(\"Skirt\", -3))"
   ]
  },
  {
   "cell_type": "code",
   "execution_count": 561,
   "metadata": {},
   "outputs": [
    {
     "name": "stdout",
     "output_type": "stream",
     "text": [
      "Error: cannot reduce the stock for Skirt below 0\n"
     ]
    }
   ],
   "source": [
    "print(random_store.update_stock(\"Skirt\", -5))"
   ]
  },
  {
   "cell_type": "code",
   "execution_count": 562,
   "metadata": {},
   "outputs": [
    {
     "name": "stdout",
     "output_type": "stream",
     "text": [
      "You have succesfully deleted the product \"Trousers\" from the inventory.\n"
     ]
    }
   ],
   "source": [
    "print(random_store.delete_product(\"Trousers\"))"
   ]
  },
  {
   "cell_type": "code",
   "execution_count": 563,
   "metadata": {},
   "outputs": [
    {
     "name": "stdout",
     "output_type": "stream",
     "text": [
      "Name: Skirt, Price: 50, Amount: 4\n",
      "Name: Socks, Price: 5, Amount: 20\n",
      "[{'Name': 'Skirt', 'Price': 50, 'Amount': 4}, {'Name': 'Socks', 'Price': 5, 'Amount': 20}]\n"
     ]
    }
   ],
   "source": [
    "# Comprobando que efectivamente se eliminó el diccionario entero \"Trousers\" del inventario:\n",
    "print(random_store.check_inventory())"
   ]
  },
  {
   "cell_type": "code",
   "execution_count": 564,
   "metadata": {},
   "outputs": [
    {
     "name": "stdout",
     "output_type": "stream",
     "text": [
      "The total value of the product \"Skirt\" is 200\n",
      "The total value of the product \"Socks\" is 100\n",
      "The total value of the inventory is 300\n"
     ]
    }
   ],
   "source": [
    "print(random_store.calculate_value_inventory())"
   ]
  }
 ],
 "metadata": {
  "kernelspec": {
   "display_name": "Python 3",
   "language": "python",
   "name": "python3"
  },
  "language_info": {
   "codemirror_mode": {
    "name": "ipython",
    "version": 3
   },
   "file_extension": ".py",
   "mimetype": "text/x-python",
   "name": "python",
   "nbconvert_exporter": "python",
   "pygments_lexer": "ipython3",
   "version": "3.9.6"
  }
 },
 "nbformat": 4,
 "nbformat_minor": 2
}

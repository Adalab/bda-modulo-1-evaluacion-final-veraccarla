{
 "cells": [
  {
   "cell_type": "code",
   "execution_count": 33,
   "metadata": {},
   "outputs": [],
   "source": [
    "class OnlineStore:\n",
    "    \n",
    "    def __init__(self):\n",
    "        self.inventory = [] # Esto debe ser una lista de diccionarios\n",
    "        # Cada producto que creemos, debe ser un diccionario cuya estructura sea:\n",
    "        # {\"name_of_product\": \"Camisa\", \"price_of_product\": 20, \"amount_of_product\": 40}\n",
    "        self.clients = {}\n",
    "        self.total_sales = 0\n",
    "\n",
    "    def add_product(self, name, price, amount):\n",
    "        for product in self.inventory:\n",
    "        # Primero que nada debo comprobar si el nombre del producto coincide, pues:\n",
    "            # - si es así, y ya existe, tendré que actualizar su cantidad:\n",
    "            if product[\"Name\"] == name: \n",
    "                product[\"Amount\"] += amount\n",
    "                return f\"The new amount for the product {self.name} is {product['Amount']}\"\n",
    "                # Sospecho que lo de \"amount\" está mal\n",
    "                # Uso \"return\" para parar el bucle (se termina la función una vez que he actualizado su cantidad)\n",
    "                # (de lo contrario me lo seguiría añadiendo en cada iteración)\n",
    "\n",
    "        # - si no es así, tendré que añadirlo al inventario:\n",
    "        self.inventory.append({\"Name\": name, \"Price\": price, \"Amount\": amount})\n",
    "        return f\"The product {name} has been added to the inventory\"\n",
    "\n",
    "    def check_inventory(self):\n",
    "        for product in self.inventory:\n",
    "            print(f'\"Name:\" name, \"Price:\" price, \"Amount:\" amount')"
   ]
  },
  {
   "cell_type": "code",
   "execution_count": 34,
   "metadata": {},
   "outputs": [],
   "source": [
    "random_store = OnlineStore()"
   ]
  },
  {
   "cell_type": "code",
   "execution_count": 35,
   "metadata": {},
   "outputs": [
    {
     "name": "stdout",
     "output_type": "stream",
     "text": [
      "The product Trousers has been added to the inventory\n"
     ]
    }
   ],
   "source": [
    "print(random_store.add_product(\"Trousers\", 20, 10))"
   ]
  },
  {
   "cell_type": "code",
   "execution_count": 36,
   "metadata": {},
   "outputs": [
    {
     "ename": "AttributeError",
     "evalue": "'OnlineStore' object has no attribute 'name'",
     "output_type": "error",
     "traceback": [
      "\u001b[0;31m---------------------------------------------------------------------------\u001b[0m",
      "\u001b[0;31mAttributeError\u001b[0m                            Traceback (most recent call last)",
      "Cell \u001b[0;32mIn[36], line 1\u001b[0m\n\u001b[0;32m----> 1\u001b[0m \u001b[38;5;28mprint\u001b[39m(\u001b[43mrandom_store\u001b[49m\u001b[38;5;241;43m.\u001b[39;49m\u001b[43madd_product\u001b[49m\u001b[43m(\u001b[49m\u001b[38;5;124;43m\"\u001b[39;49m\u001b[38;5;124;43mTrousers\u001b[39;49m\u001b[38;5;124;43m\"\u001b[39;49m\u001b[43m,\u001b[49m\u001b[43m \u001b[49m\u001b[38;5;241;43m10\u001b[39;49m\u001b[43m,\u001b[49m\u001b[43m \u001b[49m\u001b[38;5;241;43m5\u001b[39;49m\u001b[43m)\u001b[49m)\n",
      "Cell \u001b[0;32mIn[33], line 16\u001b[0m, in \u001b[0;36mOnlineStore.add_product\u001b[0;34m(self, name, price, amount)\u001b[0m\n\u001b[1;32m     14\u001b[0m     \u001b[38;5;28;01mif\u001b[39;00m product[\u001b[38;5;124m\"\u001b[39m\u001b[38;5;124mName\u001b[39m\u001b[38;5;124m\"\u001b[39m] \u001b[38;5;241m==\u001b[39m name: \n\u001b[1;32m     15\u001b[0m         product[\u001b[38;5;124m\"\u001b[39m\u001b[38;5;124mAmount\u001b[39m\u001b[38;5;124m\"\u001b[39m] \u001b[38;5;241m+\u001b[39m\u001b[38;5;241m=\u001b[39m amount\n\u001b[0;32m---> 16\u001b[0m         \u001b[38;5;28;01mreturn\u001b[39;00m \u001b[38;5;124mf\u001b[39m\u001b[38;5;124m\"\u001b[39m\u001b[38;5;124mThe new amount for the product \u001b[39m\u001b[38;5;132;01m{\u001b[39;00m\u001b[38;5;28mself\u001b[39m\u001b[38;5;241m.\u001b[39mname\u001b[38;5;132;01m}\u001b[39;00m\u001b[38;5;124m is \u001b[39m\u001b[38;5;132;01m{\u001b[39;00mproduct[\u001b[38;5;124m'\u001b[39m\u001b[38;5;124mAmount\u001b[39m\u001b[38;5;124m'\u001b[39m]\u001b[38;5;132;01m}\u001b[39;00m\u001b[38;5;124m\"\u001b[39m\n\u001b[1;32m     17\u001b[0m         \u001b[38;5;66;03m# Sospecho que lo de \"amount\" está mal\u001b[39;00m\n\u001b[1;32m     18\u001b[0m         \u001b[38;5;66;03m# Uso \"return\" para parar el bucle (se termina la función una vez que he actualizado su cantidad)\u001b[39;00m\n\u001b[1;32m     19\u001b[0m         \u001b[38;5;66;03m# (de lo contrario me lo seguiría añadiendo en cada iteración)\u001b[39;00m\n\u001b[1;32m     20\u001b[0m \n\u001b[1;32m     21\u001b[0m \u001b[38;5;66;03m# - si no es así, tendré que añadirlo al inventario:\u001b[39;00m\n\u001b[1;32m     22\u001b[0m \u001b[38;5;28mself\u001b[39m\u001b[38;5;241m.\u001b[39minventory\u001b[38;5;241m.\u001b[39mappend({\u001b[38;5;124m\"\u001b[39m\u001b[38;5;124mName\u001b[39m\u001b[38;5;124m\"\u001b[39m: name, \u001b[38;5;124m\"\u001b[39m\u001b[38;5;124mPrice\u001b[39m\u001b[38;5;124m\"\u001b[39m: price, \u001b[38;5;124m\"\u001b[39m\u001b[38;5;124mAmount\u001b[39m\u001b[38;5;124m\"\u001b[39m: amount})\n",
      "\u001b[0;31mAttributeError\u001b[0m: 'OnlineStore' object has no attribute 'name'"
     ]
    }
   ],
   "source": [
    "print(random_store.add_product(\"Trousers\", 10, 5))"
   ]
  },
  {
   "cell_type": "code",
   "execution_count": 37,
   "metadata": {},
   "outputs": [
    {
     "name": "stdout",
     "output_type": "stream",
     "text": [
      "<bound method OnlineStore.check_inventory of <__main__.OnlineStore object at 0x10879d0a0>>\n"
     ]
    }
   ],
   "source": [
    "print(random_store.check_inventory)"
   ]
  },
  {
   "cell_type": "code",
   "execution_count": null,
   "metadata": {},
   "outputs": [],
   "source": []
  },
  {
   "cell_type": "code",
   "execution_count": null,
   "metadata": {},
   "outputs": [
    {
     "ename": "IndentationError",
     "evalue": "expected an indented block (2014300957.py, line 3)",
     "output_type": "error",
     "traceback": [
      "\u001b[0;36m  Cell \u001b[0;32mIn[6], line 3\u001b[0;36m\u001b[0m\n\u001b[0;31m    def search_product(self,name):\u001b[0m\n\u001b[0m    ^\u001b[0m\n\u001b[0;31mIndentationError\u001b[0m\u001b[0;31m:\u001b[0m expected an indented block\n"
     ]
    }
   ],
   "source": [
    "    def search_product(self,name):\n",
    "    \n",
    "    def update_stock(self, name, amount):\n",
    "\n",
    "    def delete_product(self, name):\n",
    "\n",
    "    def calculate_value_inventory(self):\n",
    "\n",
    "    def make_a_purchase(self):"
   ]
  }
 ],
 "metadata": {
  "kernelspec": {
   "display_name": "Python 3",
   "language": "python",
   "name": "python3"
  },
  "language_info": {
   "codemirror_mode": {
    "name": "ipython",
    "version": 3
   },
   "file_extension": ".py",
   "mimetype": "text/x-python",
   "name": "python",
   "nbconvert_exporter": "python",
   "pygments_lexer": "ipython3",
   "version": "3.9.6"
  }
 },
 "nbformat": 4,
 "nbformat_minor": 2
}

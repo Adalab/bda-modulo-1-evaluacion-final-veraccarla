{
 "cells": [
  {
   "cell_type": "code",
   "execution_count": null,
   "metadata": {},
   "outputs": [],
   "source": [
    "class OnlineStore:\n",
    "    \n",
    "    def __init__(self):\n",
    "        self.inventory = [] # Esto debe ser una lista de diccionarios\n",
    "        # Cada producto que creemos, debe ser un diccionario cuya estructura sea:\n",
    "        # {\"name_of_product\": \"Camisa\", \"price_of_product\": 20, \"amount_of_product\": 40}\n",
    "        self.clients = {}\n",
    "        self.total_sales = 0\n",
    "\n",
    "    # 1.\n",
    "    def add_product(self, name, price, amount):\n",
    "        for each_product in self.inventory:\n",
    "        # Primero que nada debo comprobar si el nombre del producto coincide, pues:\n",
    "            # - si es así, y ya existe, tendré que actualizar su cantidad:\n",
    "            if each_product[\"Name\"] == name: \n",
    "                each_product[\"Amount\"] += amount\n",
    "                return f'The new amount for the product {name} is {each_product[\"Amount\"]}.'\n",
    "                # Estar muy atenta a especificar de qué producto es la cantidad que estoy introduciendo en el \"f\"\n",
    "                # Uso \"return\" para parar el bucle (se termina la función una vez que he actualizado su cantidad)\n",
    "                # (de lo contrario me lo seguiría añadiendo en cada iteración)\n",
    "\n",
    "        # - si no es así, tendré que añadirlo al inventario:\n",
    "        self.inventory.append({\"Name\": name, \"Price\": price, \"Amount\": amount})\n",
    "        return f'The product {name} has been added to the inventory.'\n",
    "\n",
    "    # 2.\n",
    "    def check_inventory(self):\n",
    "        for each_product in self.inventory:\n",
    "            print(f'Name: {each_product[\"Name\"]}, Price: {each_product[\"Price\"]}, Amount: {each_product[\"Amount\"]}.')\n",
    "            # Aunque lo hice así antes pero con \"remove\", ese era precisamente el error, ya que con \"return\" se cierra el bucle y se termina mi función\n",
    "            # en el primer bucle => por esto se me estaba imprimiendo solamente \"Trousers\"\n",
    "        \n",
    "        return self.inventory # Esto es simplemente para evitar que me salga \"None\" al final (que no pasaría nada tampoco)\n",
    "        # Sin embargo, lo voy a dejar así porque me gusta que me imprima el inventario entero al final\n",
    "            \n",
    "            # El \"self\" solo se pone cuando se trata de los atributos directos (self.inventory, self.clients y self.total_sales)\n",
    "            # Error hasta ahora por el cual me salía \"OnlineStore has no attribute 'name'\": si yo pongo en el return:\n",
    "            # f\"Name\": name, \"Price\": price, \"Amount\": amount; no va a saber exactamente qué es lo que quiero que me imprima\n",
    "            # name, price y amount per se no son nada (solo son parte de la función) => yo he creado antes en \"add_product\" el siguiente patrón,\n",
    "            # en el cual denomino \"Name\" al nombre de un producto cuando lo añado (que aparecerá en el diccionario del producto)\n",
    "            # \"Price\" a su precio\n",
    "            # \"Amount\" a la cantidad (ya sea nueva o actualizada)\n",
    "            # Esto es fundamental, ya que cuando ejecute \"return\", tengo que especificar, para cada producto, qué es exactamente lo que quiero que me imprima,\n",
    "            # y la única forma de hacer esto es poniendo: {each_product[\"Name\"]} {each_product[\"Price\"]} {each_product[\"Amount\"}\n",
    "\n",
    "    # 3.\n",
    "    def search_product(self,name):\n",
    "        for each_product in self.inventory:\n",
    "            if each_product[\"Name\"] == name:\n",
    "                return f'This product is in the inventory. Name: {each_product[\"Name\"]}, Price: {each_product[\"Price\"]}, Amount: {each_product[\"Amount\"]}.'\n",
    "            \n",
    "            else:\n",
    "                return 'Sorry, this product is not currently in the inventory.'\n",
    "\n",
    "    # 4.\n",
    "    def update_stock(self, name, amount):\n",
    "        for each_product in self.inventory:\n",
    "            if each_product[\"Name\"] == name:\n",
    "                # Tengo que crear una nueva variable localmente, ya que la cantidad disponible del producto va a cambiar\n",
    "                new_amount = each_product[\"Amount\"] + amount\n",
    "\n",
    "                if new_amount < 0:\n",
    "                    return f'Error: cannot reduce the stock for {name} below 0.'\n",
    "\n",
    "                # Aquí yo había puesto un \"else\", pero en realidad, aunque no lo ponga, se me va a ejecutar el resto del código\n",
    "                # de todos modos si la primera condición \"if\" no se cumple\n",
    "                # Debo incluir la posibilidad que el stock quede exactamnte a 0\n",
    "                each_product[\"Amount\"] = new_amount\n",
    "                # Aquí también podría utilizar la función .update() para diccionarios\n",
    "                \n",
    "                return f'The stock for {name} has been updated to {each_product[\"Amount\"]}.'\n",
    "\n",
    "                \n",
    "        return f'Sorry, the product {name} is not currently in the inventory.'\n",
    "\n",
    "    # 5.\n",
    "    def delete_product(self, name):\n",
    "        for each_product in self.inventory:\n",
    "            if each_product[\"Name\"] == name:\n",
    "                self.inventory.remove(each_product)\n",
    "                # No puede ser .clear() porque no tengo que vaciar el diccionario entero, solo eliminar => usar .remove() y le especifico el producto que quiero eliminar\n",
    "                # que en este caso, es el que cumple la condición del \"if\" y nada más que ese\n",
    "                # Creo que con .pop() solo me eliminaría le clave, pero no los valores\n",
    "                return f'You have succesfully deleted the product \"{each_product[\"Name\"]}\" from the inventory.'\n",
    "\n",
    "        return f'Sorry, you cannot delete \"{name}\" because this product because is not currently in the inventory.'\n",
    "\n",
    "\n",
    "    # 6.\n",
    "    def calculate_value_inventory(self):\n",
    "            # Si solo hiciese:\n",
    "            # product_value = (each_product[\"Price\"]) * (each_product[\"Amount\"])\n",
    "            # estaría recalculando el valor de cada producto en cada iteración\n",
    "            # pero nunca se acumularía\n",
    "        \n",
    "        total_value_inventory = 0 # Establezco en 0 el acumulador (fuera del bucle)\n",
    "\n",
    "        for each_product in self.inventory:\n",
    "            product_value = (each_product[\"Price\"]) * (each_product[\"Amount\"])\n",
    "            print(f'The total value of the product \"{each_product[\"Name\"]}\" is {product_value}.')\n",
    "\n",
    "            total_value_inventory += product_value\n",
    "\n",
    "        return f'The total value of the inventory is {total_value_inventory}.'\n",
    "\n",
    "    # 7.\n",
    "    def make_a_purchase(self):\n",
    "\n",
    "    # No podemos dejar que el cliente compre los productos sin haber comprobado primero si los teníamos en el inventario\n",
    "\n",
    "    # Para comprobar si tenemos estos productos en nuestro inventario y poder actualizar nuestro inventario,\n",
    "    # podría ser más intuitivo usar un \"for\" dentro del while\n",
    "\n",
    "    # También podría usar: while True (sin condición específica) + break; o que mi condición sea que NO ponga un \"salir\"\n",
    "    # => en cualquier caso, siempre tenemos que darle una condición para que salga del bucle\n",
    "        print('Catalogue:')\n",
    "        print(self.check_inventory())\n",
    "\n",
    "        basket = {} # Diccionario que almacenará los productos comprados como claves\n",
    "        # y las cantidades como valores\n",
    "\n",
    "\n",
    "        while True:\n",
    "            purchase_product = (input('What product do you wish to buy? Type \"exit\" if you wish to finish the purchase')).title()\n",
    "            if purchase_product.lower() == \"exit\":\n",
    "                print('Thank you. See you soon!')\n",
    "                break\n",
    "                # De esta forma le estoy dando la condición para que salga del bucle al principio del todo\n",
    "\n",
    "            for each_product in self.inventory:\n",
    "                if each_product[\"Name\"] == purchase_product:\n",
    "                    # Creo una nueva variable para identificar el producto encontrado dentro del inventario\n",
    "                    product_found = each_product\n",
    "                    break\n",
    "                    \n",
    "            else: # Si no lo pongo a esta altura, se me va a imprimir lo de \"Sorry, this product is not currently in the inventory\"\n",
    "                # al final del bucle en la segunda interación, aunque sí que lo haya encontrado\n",
    "            # Yo había hecho un \"if each_product[\"Name\"] != purchase_product:\"\n",
    "                print('Sorry, this product is not currently in the inventory.')\n",
    "                continue\n",
    "            \n",
    "\n",
    "            try:\n",
    "                quantity_requested = int(input(f'How many of \"{purchase_product}\" would you like to buy?'))\n",
    "\n",
    "            except ValueError:\n",
    "                print(\"Please, enter a valid number.\")\n",
    "                continue\n",
    "\n",
    "            # Podría ser que me estuviesen pidiendo más cantidad de la que tenemos en stock,\n",
    "            # por lo que comprobar el stock debe ser el primer paso\n",
    "            # (porque de lo contrario, tendríamos que \"continue\" el bucle y así pedirle al usuario\n",
    "            # que compre otra cosa o cambie la cantidad de lo que quiere)\n",
    "            if quantity_requested > product_found[\"Amount\"]:\n",
    "                print(f'Sorry, but we only have {product_found[\"Amount\"]} in stock.')\n",
    "                continue\n",
    "\n",
    "            else: # Hay suficiente stock\n",
    "                # Añadimos el producto al carrito:\n",
    "                if purchase_product in basket: # Si ya está en el carrito,\n",
    "                    basket[purchase_product] += quantity_requested\n",
    "                    # actualizo la cantidad en el carrito\n",
    "                \n",
    "                else: # Aún no está en el carrito (diccionario que he creado), entonces créamelo dentro de mi diccionario\n",
    "                    basket[purchase_product] = quantity_requested\n",
    "                    # También lo podría hacer con\n",
    "                    # basket.update({purchase_product: quantity_requested})\n",
    "                \n",
    "                print(f'{quantity_requested} of \"{purchase_product}\" succesfully added to your basket.')\n",
    "\n",
    "                # Y luego actualizar/restar la cantidad en el inventario \n",
    "                # (antes ya creé una función para esto,\n",
    "                # o sea que tengo que hacer prácticamente lo mismo) => en realidad no\n",
    "                # No hace falta que recorra todo el inventario con un \"for\" de nuevo, porque ya he encontrado el producto\n",
    "                # del cual tengo que actualizar el inventario: \"product_found\"\n",
    "                product_found[\"Amount\"] -= quantity_requested\n",
    "                print(f'The stock for {product_found[\"Name\"]} has been updated to {product_found[\"Amount\"]}.')\n",
    "\n",
    "        # Para calcular el coste total del carrito y finalizar la compra:\n",
    "        total_cost = 0 # Establezco en 0 el acumulador (siempre fuera del bucle)\n",
    "\n",
    "        print('Purchase summary:')\n",
    "\n",
    "        for product_basket in basket:\n",
    "            product_basket_value = (product_basket[\"Price\"]) * (product_basket[\"Amount\"])\n",
    "            print(f'The total value of the product \"{product_basket[\"Name\"]}\" is {product_basket_value}.')\n",
    "\n",
    "            total_cost += product_basket_value\n",
    "\n",
    "        # Puedo crear una tupla que me muestre la clave con su respectivo valor:\n",
    "        for purchase_product, quantity_requested in basket.items():\n",
    "            print(f'{purchase_product}: {quantity_requested}')\n",
    "            \n",
    "\n",
    "        print(f'The total value of your basket is {total_value_inventory}.')\n",
    "\n",
    "        return f'Thanks for your visit today!'"
   ]
  },
  {
   "cell_type": "code",
   "execution_count": 341,
   "metadata": {},
   "outputs": [],
   "source": [
    "# Creating a store called \"random_store\":\n",
    "\n",
    "random_store = OnlineStore()"
   ]
  },
  {
   "cell_type": "code",
   "execution_count": 342,
   "metadata": {},
   "outputs": [
    {
     "name": "stdout",
     "output_type": "stream",
     "text": [
      "The product Trousers has been added to the inventory.\n"
     ]
    }
   ],
   "source": [
    "# Testing 1st method:\n",
    "# adding new products to the inventory\n",
    "\n",
    "print(random_store.add_product(\"Trousers\", 20, 10))"
   ]
  },
  {
   "cell_type": "code",
   "execution_count": 343,
   "metadata": {},
   "outputs": [
    {
     "name": "stdout",
     "output_type": "stream",
     "text": [
      "The product Skirt has been added to the inventory.\n"
     ]
    }
   ],
   "source": [
    "print(random_store.add_product(\"Skirt\", 50, 5))"
   ]
  },
  {
   "cell_type": "code",
   "execution_count": 344,
   "metadata": {},
   "outputs": [
    {
     "name": "stdout",
     "output_type": "stream",
     "text": [
      "The product Socks has been added to the inventory.\n"
     ]
    }
   ],
   "source": [
    "print(random_store.add_product(\"Socks\", 5, 20))"
   ]
  },
  {
   "cell_type": "code",
   "execution_count": 345,
   "metadata": {},
   "outputs": [
    {
     "name": "stdout",
     "output_type": "stream",
     "text": [
      "The product Hoodie has been added to the inventory.\n"
     ]
    }
   ],
   "source": [
    "print(random_store.add_product(\"Hoodie\", 20, 4))"
   ]
  },
  {
   "cell_type": "code",
   "execution_count": 346,
   "metadata": {},
   "outputs": [
    {
     "name": "stdout",
     "output_type": "stream",
     "text": [
      "The product Jacket has been added to the inventory.\n"
     ]
    }
   ],
   "source": [
    "print(random_store.add_product(\"Jacket\", 50, 10))"
   ]
  },
  {
   "cell_type": "code",
   "execution_count": 347,
   "metadata": {},
   "outputs": [
    {
     "name": "stdout",
     "output_type": "stream",
     "text": [
      "The new amount for the product Skirt is 25.\n"
     ]
    }
   ],
   "source": [
    "# Testing 1st method:\n",
    "# adding an existing product (so its quantity in the inventory is updated)\n",
    "\n",
    "print(random_store.add_product(\"Skirt\", 50, 20))"
   ]
  },
  {
   "cell_type": "code",
   "execution_count": 348,
   "metadata": {},
   "outputs": [
    {
     "name": "stdout",
     "output_type": "stream",
     "text": [
      "Name: Trousers, Price: 20, Amount: 10.\n",
      "Name: Skirt, Price: 50, Amount: 25.\n",
      "Name: Socks, Price: 5, Amount: 20.\n",
      "Name: Hoodie, Price: 20, Amount: 4.\n",
      "Name: Jacket, Price: 50, Amount: 10.\n",
      "[{'Name': 'Trousers', 'Price': 20, 'Amount': 10}, {'Name': 'Skirt', 'Price': 50, 'Amount': 25}, {'Name': 'Socks', 'Price': 5, 'Amount': 20}, {'Name': 'Hoodie', 'Price': 20, 'Amount': 4}, {'Name': 'Jacket', 'Price': 50, 'Amount': 10}]\n"
     ]
    }
   ],
   "source": [
    "# Testing 2nd method:\n",
    "# showing the full inventory in detail\n",
    "\n",
    "print(random_store.check_inventory())"
   ]
  },
  {
   "cell_type": "code",
   "execution_count": 349,
   "metadata": {},
   "outputs": [
    {
     "name": "stdout",
     "output_type": "stream",
     "text": [
      "This product is in the inventory. Name: Trousers, Price: 20, Amount: 10.\n"
     ]
    }
   ],
   "source": [
    "# Testing 3rd method:\n",
    "# searching for a product that exists within the inventory\n",
    "\n",
    "print(random_store.search_product(\"Trousers\"))"
   ]
  },
  {
   "cell_type": "code",
   "execution_count": 350,
   "metadata": {},
   "outputs": [
    {
     "name": "stdout",
     "output_type": "stream",
     "text": [
      "Sorry, this product is not currently in the inventory.\n"
     ]
    }
   ],
   "source": [
    "# Testing 3rd method:\n",
    "# searching for a product that is not in the inventory\n",
    "\n",
    "print(random_store.search_product(\"Shirt\"))"
   ]
  },
  {
   "cell_type": "code",
   "execution_count": 351,
   "metadata": {},
   "outputs": [
    {
     "name": "stdout",
     "output_type": "stream",
     "text": [
      "The stock for Skirt has been updated to 27.\n"
     ]
    }
   ],
   "source": [
    "# Testing 4th method:\n",
    "# updating the stock of a product\n",
    "\n",
    "print(random_store.update_stock(\"Skirt\", +2))"
   ]
  },
  {
   "cell_type": "code",
   "execution_count": 352,
   "metadata": {},
   "outputs": [
    {
     "name": "stdout",
     "output_type": "stream",
     "text": [
      "The stock for Skirt has been updated to 24.\n"
     ]
    }
   ],
   "source": [
    "print(random_store.update_stock(\"Skirt\", -3))"
   ]
  },
  {
   "cell_type": "code",
   "execution_count": 353,
   "metadata": {},
   "outputs": [
    {
     "name": "stdout",
     "output_type": "stream",
     "text": [
      "The stock for Skirt has been updated to 4.\n"
     ]
    }
   ],
   "source": [
    "print(random_store.update_stock(\"Skirt\", -20))"
   ]
  },
  {
   "cell_type": "code",
   "execution_count": 354,
   "metadata": {},
   "outputs": [
    {
     "name": "stdout",
     "output_type": "stream",
     "text": [
      "You have succesfully deleted the product \"Trousers\" from the inventory.\n"
     ]
    }
   ],
   "source": [
    "# Testing 5th method:\n",
    "# deleting a product from the inventory\n",
    "\n",
    "print(random_store.delete_product(\"Trousers\"))"
   ]
  },
  {
   "cell_type": "code",
   "execution_count": 355,
   "metadata": {},
   "outputs": [
    {
     "name": "stdout",
     "output_type": "stream",
     "text": [
      "Name: Skirt, Price: 50, Amount: 4.\n",
      "Name: Socks, Price: 5, Amount: 20.\n",
      "Name: Hoodie, Price: 20, Amount: 4.\n",
      "Name: Jacket, Price: 50, Amount: 10.\n",
      "[{'Name': 'Skirt', 'Price': 50, 'Amount': 4}, {'Name': 'Socks', 'Price': 5, 'Amount': 20}, {'Name': 'Hoodie', 'Price': 20, 'Amount': 4}, {'Name': 'Jacket', 'Price': 50, 'Amount': 10}]\n"
     ]
    }
   ],
   "source": [
    "# Testing 5th method:\n",
    "# checking that the product has succesfully been removed from the inventory\n",
    "\n",
    "print(random_store.check_inventory())"
   ]
  },
  {
   "cell_type": "code",
   "execution_count": 356,
   "metadata": {},
   "outputs": [
    {
     "name": "stdout",
     "output_type": "stream",
     "text": [
      "The total value of the product \"Skirt\" is 200.\n",
      "The total value of the product \"Socks\" is 100.\n",
      "The total value of the product \"Hoodie\" is 80.\n",
      "The total value of the product \"Jacket\" is 500.\n",
      "The total value of the inventory is 880.\n"
     ]
    }
   ],
   "source": [
    "# Testing 6th method:\n",
    "# calculating and showing the total value of the inventory\n",
    "\n",
    "print(random_store.calculate_value_inventory())"
   ]
  },
  {
   "cell_type": "code",
   "execution_count": 358,
   "metadata": {},
   "outputs": [
    {
     "name": "stdout",
     "output_type": "stream",
     "text": [
      "Catalogue:\n",
      "Name: Skirt, Price: 50, Amount: 4.\n",
      "Name: Socks, Price: 5, Amount: 20.\n",
      "Name: Hoodie, Price: 20, Amount: 3.\n",
      "Name: Jacket, Price: 50, Amount: 10.\n",
      "[{'Name': 'Skirt', 'Price': 50, 'Amount': 4}, {'Name': 'Socks', 'Price': 5, 'Amount': 20}, {'Name': 'Hoodie', 'Price': 20, 'Amount': 3}, {'Name': 'Jacket', 'Price': 50, 'Amount': 10}]\n",
      "Thank you. See you soon!\n",
      "None\n"
     ]
    }
   ],
   "source": [
    "# Testing 7th method:\n",
    "# making a purchase\n",
    "# (7.1. showing the full inventory first)\n",
    "# (7.2. showing that the selected items have been added to the basket)\n",
    "# (7.3. updating the inventory after adding items to the basket)\n",
    "# (7.4. working out the total cost of the purchase)\n",
    "\n",
    "print(random_store.make_a_purchase())"
   ]
  }
 ],
 "metadata": {
  "kernelspec": {
   "display_name": "Python 3",
   "language": "python",
   "name": "python3"
  },
  "language_info": {
   "codemirror_mode": {
    "name": "ipython",
    "version": 3
   },
   "file_extension": ".py",
   "mimetype": "text/x-python",
   "name": "python",
   "nbconvert_exporter": "python",
   "pygments_lexer": "ipython3",
   "version": "3.9.6"
  }
 },
 "nbformat": 4,
 "nbformat_minor": 2
}
